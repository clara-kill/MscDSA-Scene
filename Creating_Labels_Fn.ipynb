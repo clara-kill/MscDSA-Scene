{
 "cells": [
  {
   "cell_type": "code",
   "execution_count": 3,
   "metadata": {},
   "outputs": [
    {
     "name": "stdout",
     "output_type": "stream",
     "text": [
      "1.14.0\n",
      "2.2.4-tf\n"
     ]
    },
    {
     "name": "stderr",
     "output_type": "stream",
     "text": [
      "Using TensorFlow backend.\n"
     ]
    }
   ],
   "source": [
    "from __future__ import division\n",
    "import argparse\n",
    "import tensorflow as tf\n",
    "from tensorflow.keras import layers\n",
    "\n",
    "# Helper libraries\n",
    "import numpy as np\n",
    "import matplotlib.pyplot as plt\n",
    "from tensorflow import keras\n",
    "\n",
    "print(tf.VERSION)\n",
    "print(tf.keras.__version__)\n",
    "\n",
    "import numpy as np\n",
    "import matplotlib.pyplot as plt\n",
    "from ipywidgets import interact\n",
    "from PIL import Image\n",
    "import os\n",
    "from glob import glob\n",
    "import seaborn as sns\n",
    "import cv2\n",
    "from keras.utils.np_utils import to_categorical \n",
    "from keras.models import Sequential\n",
    "from keras.layers import Dense, Dropout, Flatten, Conv2D, MaxPool2D, LSTM, TimeDistributed\n",
    "from keras import backend as K\n",
    "import itertools\n",
    "from keras.layers.normalization import BatchNormalization\n",
    "from keras.preprocessing.image import ImageDataGenerator\n",
    "from keras.utils.np_utils import to_categorical \n",
    "from sklearn.model_selection import train_test_split\n",
    "import re"
   ]
  },
  {
   "cell_type": "markdown",
   "metadata": {},
   "source": [
    "# Functions for Reading in Images"
   ]
  },
  {
   "cell_type": "code",
   "execution_count": 4,
   "metadata": {},
   "outputs": [],
   "source": [
    "# function for reading in images + creating labels given image directory and classes:\n",
    "\n",
    "def read_images1(image_dir, classes1):\n",
    "    imageid_path = image_dir\n",
    "    c1 = classes1\n",
    "    \n",
    "    \n",
    "    class_dict = {}\n",
    "    for x in imageid_path:\n",
    "        for typ in c1:\n",
    "            pattern = re.compile(typ)\n",
    "            if pattern.search(x):\n",
    "                class_dict[imageid_path[x]] = typ \n",
    "    \n",
    "    return  class_dict"
   ]
  },
  {
   "cell_type": "code",
   "execution_count": 5,
   "metadata": {},
   "outputs": [],
   "source": [
    "# function for reading in images + creating labels given image directory and classes:\n",
    "\n",
    "def read_images2(image_dir, classes1):\n",
    "    imageid_path = image_dir\n",
    "    c1 = classes1\n",
    "    \n",
    "    class_dict = {}\n",
    "    for x in imageid_path:\n",
    "        f_1 = os.path.split(imageid_path[x])\n",
    "        f_2 = os.path.split(f_1[0])\n",
    "        class_dict[imageid_path[x]] = f_2[1] \n",
    "    \n",
    "    for x in imageid_path:\n",
    "        \n",
    "        if class_dict[imageid_path[x]] == \"sunny\":\n",
    "            class_dict[imageid_path[x]] = \"shine\"\n",
    "    \n",
    "    \n",
    "    return class_dict"
   ]
  },
  {
   "cell_type": "code",
   "execution_count": null,
   "metadata": {},
   "outputs": [],
   "source": [
    "def labels_quick(image_dir, class_dict, classes_final):\n",
    "    c2 = classes_final\n",
    "    op = []\n",
    "    for x in image_dir:\n",
    "        op.append(class_dict[image_dir[x]])\n",
    "        \n",
    "    labels = np.asarray(op)\n",
    "    labelslist = (labels.tolist())\n",
    "    \n",
    "    labels_num = []\n",
    "    for x in labelslist:\n",
    "        for i in range(len(c2)):\n",
    "            if x == c2[i]:\n",
    "                labels_num.append(np.asarray([i]))\n",
    "                \n",
    "            \n",
    "    \n",
    "    labels_num = np.asarray(labels_num)\n",
    "    print(labels_num.shape)\n",
    "    return labels_num, labelslist"
   ]
  },
  {
   "cell_type": "code",
   "execution_count": null,
   "metadata": {},
   "outputs": [],
   "source": [
    "def labels_quick_order(image_dir, class_dict, classes_final):\n",
    "    c2 = classes_final\n",
    "    op = []\n",
    "    for x in sorted(image_dir):\n",
    "        op.append(class_dict[image_dir[x]])\n",
    "        \n",
    "    labels = np.asarray(op)\n",
    "    labelslist = (labels.tolist())\n",
    "    \n",
    "    labels_num = []\n",
    "    for x in labelslist:\n",
    "        for i in range(len(c2)):\n",
    "            if x == c2[i]:\n",
    "                labels_num.append(np.asarray([i]))\n",
    "                \n",
    "            \n",
    "    \n",
    "    labels_num = np.asarray(labels_num)\n",
    "    print(labels_num.shape)\n",
    "    return labels_num, labelslist"
   ]
  },
  {
   "cell_type": "code",
   "execution_count": 6,
   "metadata": {},
   "outputs": [],
   "source": [
    "def create_image_data(image_dir, classes_final, class_dict):\n",
    "    imageid_path = image_dir\n",
    "    c2 = classes_final\n",
    "    data_a = []\n",
    "    for x in imageid_path:\n",
    "        if class_dict[imageid_path[x]] in c2:\n",
    "            oimg = cv2.imread(imageid_path[x])[...,::-1]\n",
    "            nimg = cv2.resize(oimg,(100,75))\n",
    "            data_a.append(nimg)\n",
    "    data = np.asarray(data_a)\n",
    "    print(data.shape)\n",
    "    return data"
   ]
  },
  {
   "cell_type": "code",
   "execution_count": null,
   "metadata": {},
   "outputs": [],
   "source": [
    "def create_image_data_order(image_dir, classes_final, class_dict):\n",
    "    imageid_path = image_dir\n",
    "    c2 = classes_final\n",
    "    data_a = []\n",
    "    for x in sorted(imageid_path):\n",
    "        if class_dict[imageid_path[x]] in c2:\n",
    "            oimg = cv2.imread(imageid_path[x])[...,::-1]\n",
    "            nimg = cv2.resize(oimg,(100,75))\n",
    "            data_a.append(nimg)\n",
    "    data = np.asarray(data_a)\n",
    "    print(data.shape)\n",
    "    return data"
   ]
  },
  {
   "cell_type": "code",
   "execution_count": 7,
   "metadata": {},
   "outputs": [],
   "source": [
    "def breakdown(lablist, classes2): #lablist is the labels as a list, classes2 is the final number \n",
    "    \n",
    "    total = 0\n",
    "    for typ in classes2:\n",
    "       \n",
    "        total += lablist.count(typ)\n",
    "\n",
    "\n",
    "    for typ in classes2:\n",
    "        print( typ ,\":\", lablist.count(typ), round(lablist.count(typ)/total, 3))\n",
    "    print(total)   "
   ]
  },
  {
   "cell_type": "code",
   "execution_count": 8,
   "metadata": {},
   "outputs": [],
   "source": [
    "# function for creating subset of an image dataset, will pass a list of the total number of images desired for each category\n",
    "\n",
    "\n",
    "def create_subset(image_dir, class_dict, classes_final, limits):\n",
    "    \n",
    "    subset = {}\n",
    "    counts = np.zeros(len(limits)).tolist()\n",
    "\n",
    "    for x in image_dir:\n",
    "        for i in range(len(limits)):\n",
    "            \n",
    "            if class_dict[image_dir[x]] == classes_final[i]:\n",
    "                counts[i] = counts[i]+1\n",
    "                if counts[i] <(limits[i]+1):\n",
    "                    subset[x] = image_dir[x]\n",
    "    \n",
    "    \n",
    "    \n",
    "    class_subset = {} #dictionary of classes associated with each image is created\n",
    "    for x in subset:\n",
    "        class_subset[subset[x]] = class_dict[subset[x]] \n",
    "        \n",
    "    op = []\n",
    "    for x in subset:\n",
    "        op.append(class_subset[subset[x]])\n",
    "    \n",
    "    labels_subset = np.asarray(op)\n",
    "    labels_list_subset = (labels_subset.tolist())\n",
    "    \n",
    "    labels_num = []\n",
    "    for x in labels_list_subset:\n",
    "        for i in range(len(classes_final)):\n",
    "            if x == classes_final[i]:\n",
    "                labels_num.append(np.asarray([i]))\n",
    "    labels_num = np.asarray(labels_num)\n",
    "    \n",
    "    \n",
    "    print( labels_num.shape)\n",
    "    return  subset, labels_num , labels_list_subset , class_subset"
   ]
  },
  {
   "cell_type": "code",
   "execution_count": null,
   "metadata": {},
   "outputs": [],
   "source": [
    "# function for creating subset of an image dataset, will pass a list of the total number of images desired for each category\n",
    "\n",
    "\n",
    "def create_subset_order(image_dir, class_dict, classes_final, limits):\n",
    "    \n",
    "    subset = {}\n",
    "    counts = np.zeros(len(limits)).tolist()\n",
    "\n",
    "    for x in sorted(image_dir):\n",
    "        for i in range(len(limits)):\n",
    "            \n",
    "            if class_dict[image_dir[x]] == classes_final[i]:\n",
    "                counts[i] = counts[i]+1\n",
    "                if counts[i] <(limits[i]+1):\n",
    "                    subset[x] = image_dir[x]\n",
    "    \n",
    "    \n",
    "    \n",
    "    class_subset = {} #dictionary of classes associated with each image is created\n",
    "    for x in subset:\n",
    "        class_subset[subset[x]] = class_dict[subset[x]] \n",
    "        \n",
    "    op = []\n",
    "    for x in sorted(subset):\n",
    "        op.append(class_subset[subset[x]])\n",
    "    \n",
    "    labels_subset = np.asarray(op)\n",
    "    labels_list_subset = (labels_subset.tolist())\n",
    "    \n",
    "    labels_num = []\n",
    "    for x in labels_list_subset:\n",
    "        for i in range(len(classes_final)):\n",
    "            if x == classes_final[i]:\n",
    "                labels_num.append(np.asarray([i]))\n",
    "    labels_num = np.asarray(labels_num)\n",
    "    \n",
    "    \n",
    "    print( labels_num.shape)\n",
    "    return  subset, labels_num , labels_list_subset , class_subset"
   ]
  },
  {
   "cell_type": "code",
   "execution_count": null,
   "metadata": {},
   "outputs": [],
   "source": [
    "def subplots(data, label_list):\n",
    "    plt.figure(figsize=(10,10))\n",
    "    for i in range(30):\n",
    "        plt.subplot(5,6,i+1)\n",
    "        plt.xticks([])\n",
    "        plt.yticks([])\n",
    "        plt.grid(False)\n",
    "        plt.imshow(data[i], cmap=plt.cm.binary)\n",
    "        plt.xlabel(label_list[i])"
   ]
  },
  {
   "cell_type": "code",
   "execution_count": null,
   "metadata": {},
   "outputs": [],
   "source": [
    "def combine(image_dir1, image_dir2, class_dict1,class_dict2):\n",
    "    images = {}\n",
    "    labels = {}\n",
    "    for x in image_dir1:\n",
    "        images[x] = image_dir1[x]\n",
    "        labels[image_dir1[x]] = class_dict1[image_dir1[x]]\n",
    "    \n",
    "    for x in image_dir2:\n",
    "        images[x] = image_dir2[x]\n",
    "        labels[image_dir2[x]] = class_dict2[image_dir2[x]]\n",
    "        \n",
    "    return images, labels"
   ]
  },
  {
   "cell_type": "markdown",
   "metadata": {},
   "source": [
    "# Functions for Model Training"
   ]
  },
  {
   "cell_type": "code",
   "execution_count": null,
   "metadata": {},
   "outputs": [],
   "source": [
    "def normalize(data_o):\n",
    "    data_o_mean = np.mean(data_o)\n",
    "    data_o_std = np.std(data_o)\n",
    "    data = (data_o - data_o_mean)/data_o_std\n",
    "    \n",
    "    return data"
   ]
  },
  {
   "cell_type": "code",
   "execution_count": null,
   "metadata": {},
   "outputs": [],
   "source": [
    "def plots1(history):\n",
    "    history_dict = history.history\n",
    "    history_dict.keys()\n",
    "    \n",
    "    acc = history_dict['acc']\n",
    "    val_acc = history_dict['val_acc']\n",
    "    loss = history_dict['loss']\n",
    "    val_loss = history_dict['val_loss']\n",
    "\n",
    "    epochs = history.epoch\n",
    "\n",
    "    plt.plot(epochs, loss, 'bo', label='Training loss')\n",
    "    plt.plot(epochs, val_loss, 'b', label='Validation loss')\n",
    "    plt.title('Training and validation loss')\n",
    "    plt.xlabel('Epochs')\n",
    "    plt.ylabel('Loss')\n",
    "    plt.legend()"
   ]
  },
  {
   "cell_type": "code",
   "execution_count": null,
   "metadata": {},
   "outputs": [],
   "source": [
    "def plots2(history):\n",
    "    history_dict = history.history\n",
    "    history_dict.keys()\n",
    "    \n",
    "    acc = history_dict['acc']\n",
    "    val_acc = history_dict['val_acc']\n",
    "    loss = history_dict['loss']\n",
    "    val_loss = history_dict['val_loss']\n",
    "\n",
    "    epochs = history.epoch\n",
    "    \n",
    "    plt.plot(epochs, acc, 'bo', label='Training acc')\n",
    "    plt.plot(epochs, val_acc, 'b', label='Validation acc')\n",
    "    plt.title('Training and validation accuracy')\n",
    "    plt.xlabel('Epochs')\n",
    "    plt.ylabel('Accuracy')\n",
    "    plt.legend()"
   ]
  }
 ],
 "metadata": {
  "kernelspec": {
   "display_name": "Python (tensorflow)",
   "language": "python",
   "name": "tensorflow"
  },
  "language_info": {
   "codemirror_mode": {
    "name": "ipython",
    "version": 3
   },
   "file_extension": ".py",
   "mimetype": "text/x-python",
   "name": "python",
   "nbconvert_exporter": "python",
   "pygments_lexer": "ipython3",
   "version": "3.6.6"
  }
 },
 "nbformat": 4,
 "nbformat_minor": 2
}
